{
 "cells": [
  {
   "cell_type": "code",
   "execution_count": 1,
   "id": "199bbad8-6f55-4ef1-b244-3f4b3ccb7166",
   "metadata": {},
   "outputs": [],
   "source": [
    "from itertools import product\n",
    "\n",
    "import numpy as np\n",
    "import matplotlib as mpl\n",
    "import matplotlib.pyplot as plt\n",
    "import matplotlib.transforms as mtransforms\n",
    "\n",
    "plt.rc('figure', facecolor='w')"
   ]
  },
  {
   "cell_type": "code",
   "execution_count": 2,
   "id": "61840c9f-2018-45bd-8109-4d9ab8716949",
   "metadata": {},
   "outputs": [],
   "source": [
    "def series_to_continuous(x, period=360):\n",
    "    dx = x[1:] - x[:-1]\n",
    "    shift = - (np.abs(dx) // (period / 2)) * np.sign(dx) * period\n",
    "    return np.cumsum(np.concatenate([x[:1], dx + shift]))\n",
    "\n",
    "\n",
    "def get_autocorr(f):\n",
    "    f -= np.mean(f)\n",
    "    y_raw = np.correlate(f, f, 'same')\n",
    "    y = y_raw[len(y_raw) // 2:] / np.arange(len(f), len(f) // 2, -1)\n",
    "    return y\n",
    "\n",
    "\n",
    "def get_acf(xi):\n",
    "    return np.abs(np.fft.rfft(xi))**2\n",
    "\n",
    "\n",
    "def parse_data(path):\n",
    "    data = np.array([np.loadtxt(f'{path}/{i+1}.dat').T[1:] for i in range(60)])\n",
    "    data_proj = np.apply_along_axis(series_to_continuous, 2, data)\n",
    "    data_rad = data_proj / 180 * np.pi\n",
    "    xi = np.mean(np.apply_along_axis(get_autocorr, 2, data_rad), axis=0)\n",
    "    return np.apply_along_axis(get_acf, 1, xi)"
   ]
  },
  {
   "cell_type": "code",
   "execution_count": null,
   "id": "d6ca25b9-c87d-477c-889a-774137d07bc8",
   "metadata": {},
   "outputs": [],
   "source": [
    "ptp1b_acf = parse_data('data/PTP1B_dihedrals')\n",
    "yoph_acf = parse_data('data/YOPH_dihedrals')"
   ]
  },
  {
   "cell_type": "code",
   "execution_count": 1,
   "id": "5f1a89ff-6cf5-4843-87f4-59813ef1a27f",
   "metadata": {},
   "outputs": [
    {
     "ename": "NameError",
     "evalue": "name 'plt' is not defined",
     "output_type": "error",
     "traceback": [
      "\u001b[0;31m---------------------------------------------------------------------------\u001b[0m",
      "\u001b[0;31mNameError\u001b[0m                                 Traceback (most recent call last)",
      "\u001b[0;32m/tmp/ipykernel_3185443/4112164674.py\u001b[0m in \u001b[0;36m<module>\u001b[0;34m\u001b[0m\n\u001b[1;32m     14\u001b[0m                '$\\Phi_{357}$', '$\\Psi_{357}$', '$\\Phi_{358}$',)        \n\u001b[1;32m     15\u001b[0m \u001b[0;34m\u001b[0m\u001b[0m\n\u001b[0;32m---> 16\u001b[0;31m \u001b[0mfig\u001b[0m\u001b[0;34m,\u001b[0m \u001b[0maxs\u001b[0m \u001b[0;34m=\u001b[0m \u001b[0mplt\u001b[0m\u001b[0;34m.\u001b[0m\u001b[0msubplot_mosaic\u001b[0m\u001b[0;34m(\u001b[0m\u001b[0;34m[\u001b[0m\u001b[0;34m[\u001b[0m\u001b[0;34m'a'\u001b[0m\u001b[0;34m,\u001b[0m \u001b[0;34m'b'\u001b[0m\u001b[0;34m]\u001b[0m\u001b[0;34m]\u001b[0m\u001b[0;34m,\u001b[0m \u001b[0mfigsize\u001b[0m\u001b[0;34m=\u001b[0m\u001b[0;34m(\u001b[0m\u001b[0;36m12\u001b[0m\u001b[0;34m,\u001b[0m\u001b[0;36m5\u001b[0m\u001b[0;34m)\u001b[0m\u001b[0;34m)\u001b[0m\u001b[0;34m\u001b[0m\u001b[0;34m\u001b[0m\u001b[0m\n\u001b[0m\u001b[1;32m     17\u001b[0m \u001b[0mfig\u001b[0m\u001b[0;34m.\u001b[0m\u001b[0mtight_layout\u001b[0m\u001b[0;34m(\u001b[0m\u001b[0;34m)\u001b[0m\u001b[0;34m\u001b[0m\u001b[0;34m\u001b[0m\u001b[0m\n\u001b[1;32m     18\u001b[0m \u001b[0mplt\u001b[0m\u001b[0;34m.\u001b[0m\u001b[0msubplots_adjust\u001b[0m\u001b[0;34m(\u001b[0m\u001b[0mwspace\u001b[0m\u001b[0;34m=\u001b[0m\u001b[0;36m0.15\u001b[0m\u001b[0;34m)\u001b[0m\u001b[0;34m\u001b[0m\u001b[0;34m\u001b[0m\u001b[0m\n",
      "\u001b[0;31mNameError\u001b[0m: name 'plt' is not defined"
     ]
    }
   ],
   "source": [
    "def plot_acf(ax, acf, labels):\n",
    "    ax.set_xlabel('Frequency (cm$^-1$)')\n",
    "    ax.set_ylabel('PS($\\\\xi$)')\n",
    "    ax.set_xlim([-40,1000])\n",
    "    ax.set_ylim([0, 1])\n",
    "    for dih_acf, label in zip(acf, labels):\n",
    "        ax.plot(dih_acf[5:], linewidth=2, label=label)\n",
    "        ax.legend()\n",
    "\n",
    "\n",
    "ptp1b_labels = ('$\\Psi_{180}$', '$\\Phi_{181}$', '$\\Psi_{181}$', \n",
    "                '$\\Phi_{182}$', '$\\Psi_{182}$', '$\\Phi_{183}$',)\n",
    "yoph_labels = ('$\\Psi_{355}$', '$\\Phi_{356}$', '$\\Psi_{356}$', \n",
    "               '$\\Phi_{357}$', '$\\Psi_{357}$', '$\\Phi_{358}$',)        \n",
    "\n",
    "fig, axs = plt.subplot_mosaic([['a', 'b']], figsize=(12,5))\n",
    "fig.tight_layout()\n",
    "plt.subplots_adjust(wspace=0.15)\n",
    "plot_acf(axs['a'], ptp1b_acf, ptp1b_labels)\n",
    "plot_acf(axs['b'], yoph_acf, yoph_labels)\n",
    "\n",
    "for label, ax in axs.items():\n",
    "    trans = mtransforms.ScaledTranslation(10/72, -5/72, fig.dpi_scale_trans)\n",
    "    ax.text(-0.01, 1.0, label, transform=ax.transAxes + trans, verticalalignment='top', fontsize='large')\n",
    "    \n",
    "plt.savefig('FigS7.png', dpi=300, bbox_inches='tight')\n",
    "plt.show()"
   ]
  },
  {
   "cell_type": "code",
   "execution_count": null,
   "id": "b8b77690-3a14-4f03-b8ad-f12bf80eba9c",
   "metadata": {},
   "outputs": [],
   "source": []
  }
 ],
 "metadata": {
  "kernelspec": {
   "display_name": "Python 3 (ipykernel)",
   "language": "python",
   "name": "python3"
  },
  "language_info": {
   "codemirror_mode": {
    "name": "ipython",
    "version": 3
   },
   "file_extension": ".py",
   "mimetype": "text/x-python",
   "name": "python",
   "nbconvert_exporter": "python",
   "pygments_lexer": "ipython3",
   "version": "3.9.16"
  }
 },
 "nbformat": 4,
 "nbformat_minor": 5
}
